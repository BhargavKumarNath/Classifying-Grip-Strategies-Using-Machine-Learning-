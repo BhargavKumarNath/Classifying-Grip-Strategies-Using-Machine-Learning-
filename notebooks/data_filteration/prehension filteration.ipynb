{
 "cells": [
  {
   "cell_type": "markdown",
   "id": "1bdc753a",
   "metadata": {},
   "source": [
    "## Data Description\n",
    "\n",
    "It is same as the aiming_script\n",
    "\n",
    "\n",
    "| File Type | Granularity | Description | Role in the Project |\n",
    "| --- | --- | --- | --- |\n",
    "| AimingData.csv | Per Trial | Contains subject demographics (Gender, DOB) and trial conditions (visCond, surface, distance). This is the main metadata and conditions file | The Base/Core DataFrame. We will build everything onto this |\n",
    "| s...timeInfoData.csv | Per Trial | Summary of movement timing for each trial (onset, offset, movTime) | Mostly redundant, as this info is in other files, but can be used for verification |\n",
    "| s...grasp_paramData.csv | Per Trial | Calculated Features that summarises the entire grasp for a trail (eg. MaxGrip Aperture MGA, Max Velocity MVel). The signal column is 'grasp'. | These are precalculated summaries we can use directly |\n",
    "| s...reach_paramData.csv | Per Marker, Per Trial | Calculated Feature for individual markers (index, thumb, etc.) during the reach. Here we have multiple rows per trial | We need to reshape to fit the one row per trial format |\n",
    "| s...trajData.csv | Per Time-Step, Per Trial | The raw 3D coordinates over time for all markers. | Too granular for a standard ML model directly. We use this for advance feature engineering or deep learning (eg. transformers). The paramData filess are the summary of this raw data|"
   ]
  },
  {
   "cell_type": "markdown",
   "id": "91d15232",
   "metadata": {},
   "source": [
    "# First we will merge all this information into a single DataFrame\n",
    "\n",
    "1. Combine all the single subject files: First we will read all the files for individual subjects (s001, etc) and concatenate them into a single DataFrame for each data type.\n",
    "2. Handle the Multi Row Per Trial Data (reach_paramData): This feature is too long. We will pivot it to a wide format so theres only one row per trial. For each parameter in that file (MVel1, Macc, etc), we will create new columns based on the signal (eg. MVel_index, MVel_thumb, MAcc_index, MAcc_thumb).\n",
    "3. Merge everything together"
   ]
  },
  {
   "cell_type": "code",
   "id": "dab4101d",
   "metadata": {
    "ExecuteTime": {
     "end_time": "2025-06-16T14:22:37.613170Z",
     "start_time": "2025-06-16T14:22:37.605831Z"
    }
   },
   "source": [
    "import pandas as pd\n",
    "import glob \n",
    "import os"
   ],
   "outputs": [],
   "execution_count": 11
  },
  {
   "metadata": {},
   "cell_type": "markdown",
   "source": "# Step 0: Set Data Path",
   "id": "528f109f46b3e3d9"
  },
  {
   "cell_type": "code",
   "id": "ca2f5251",
   "metadata": {
    "ExecuteTime": {
     "end_time": "2025-06-16T14:28:21.318279Z",
     "start_time": "2025-06-16T14:28:21.314916Z"
    }
   },
   "source": "data_path = \"C:/CourseWork/Dissertation Classifying grip strategies using machine learning/data/01_raw/Prehension/filtered_data/\"",
   "outputs": [],
   "execution_count": 17
  },
  {
   "metadata": {},
   "cell_type": "markdown",
   "source": "# Step 1: Load Grasp Information",
   "id": "e86ff7e7eb461f05"
  },
  {
   "metadata": {
    "ExecuteTime": {
     "end_time": "2025-06-16T14:28:22.840703Z",
     "start_time": "2025-06-16T14:28:22.710157Z"
    }
   },
   "cell_type": "code",
   "source": [
    "grasp_param_files = glob.glob(os.path.join(data_path, \"s???grasp_paramData.csv\"))\n",
    "if not grasp_param_files:\n",
    "    raise FileNotFoundError(f\"No grasp_paramData files found in {data_path}\")\n",
    "grasp_params_full = pd.concat([pd.read_csv(f) for f in grasp_param_files], ignore_index=True)\n",
    "# Drop the 'signal' column as it's redundant here\n",
    "grasp_params_full.drop(columns=[\"signal\"], errors=\"ignore\", inplace=True)\n",
    "print(f\"Combined {len(grasp_param_files)} grasp_param files. Shape: {grasp_params_full.shape}\")"
   ],
   "id": "6a779b824f426969",
   "outputs": [
    {
     "name": "stdout",
     "output_type": "stream",
     "text": [
      "Combined 20 grasp_param files. Shape: (2826, 49)\n"
     ]
    }
   ],
   "execution_count": 18
  },
  {
   "metadata": {
    "ExecuteTime": {
     "end_time": "2025-06-16T14:31:07.152317Z",
     "start_time": "2025-06-16T14:31:07.039954Z"
    }
   },
   "cell_type": "code",
   "source": [
    "# 1b. Load REACH parameters\n",
    "reach_param_files = glob.glob(os.path.join(data_path, \"s*reach_paramData.csv\"))\n",
    "if not reach_param_files:\n",
    "    raise FileNotFoundError(f\"No reach_paramData files found in {data_path}\")\n",
    "reach_params_long = pd.concat([pd.read_csv(f) for f in reach_param_files], ignore_index=True)\n",
    "print(f\"Combined {len(reach_param_files)} reach_param files. Shape: {reach_params_long.shape}\")"
   ],
   "id": "be74b8c769f984a5",
   "outputs": [
    {
     "name": "stdout",
     "output_type": "stream",
     "text": [
      "Combined 20 reach_param files. Shape: (11304, 39)\n"
     ]
    }
   ],
   "execution_count": 20
  },
  {
   "metadata": {},
   "cell_type": "markdown",
   "source": "# Step 2: Create a Clean Base DataFrame with Demographics",
   "id": "9ec26f86b4453408"
  },
  {
   "metadata": {
    "ExecuteTime": {
     "end_time": "2025-06-16T14:33:17.439076Z",
     "start_time": "2025-06-16T14:33:17.389967Z"
    }
   },
   "cell_type": "code",
   "source": [
    "# We will use GRASP dataframe as our base\n",
    "base_df = grasp_params_full[['subjName', 'trialN', 'visCond', 'surface', 'distance']].copy()\n",
    "\n",
    "# Remove any duplicates rows to get unique entry for each trial\n",
    "base_df.drop_duplicates(inplace=True)\n",
    "print(f\"Created clean base DataFrame with {base_df.shape[0]} unique trials\")"
   ],
   "id": "2cf8e097b8f1d87c",
   "outputs": [
    {
     "name": "stdout",
     "output_type": "stream",
     "text": [
      "Created clean base DataFrame with 2826 unique trials\n"
     ]
    }
   ],
   "execution_count": 21
  },
  {
   "metadata": {},
   "cell_type": "markdown",
   "source": "# Step 3: Create aggregate Kinematics from REACH data\n",
   "id": "8b67b2460d57ac1e"
  },
  {
   "metadata": {
    "ExecuteTime": {
     "end_time": "2025-06-16T14:43:19.351431Z",
     "start_time": "2025-06-16T14:43:19.340629Z"
    }
   },
   "cell_type": "code",
   "source": [
    "# We will now calculate summary kinematics by averaging across markers, these are the variables that describe the overall movement\n",
    "kinematic_vars_to_average = [\n",
    "    'FX', 'FY', 'FZ', 'FXVel', 'FYVel', 'FZVel', 'FVel', 'FAcc',\n",
    "    'MVel', 'MAcc', 'MDec', 'pathLength', 'Xmax', 'Ymax', 'Zmax'\n",
    "]\n",
    "# Calculate the mean for each trial across the 4 markers ('index', 'knuck', 'thumb', 'wrist')\n",
    "reach_summary = reach_params_long.groupby(['subjName', 'trialN'])[kinematic_vars_to_average].mean().reset_index()\n",
    "print(f\"Created correct summary kinematics. Shape: {reach_summary.shape}\")\n"
   ],
   "id": "67c6309a690a67ca",
   "outputs": [
    {
     "name": "stdout",
     "output_type": "stream",
     "text": [
      "Created correct summary kinematics. Shape: (2826, 17)\n"
     ]
    }
   ],
   "execution_count": 26
  },
  {
   "metadata": {},
   "cell_type": "markdown",
   "source": "# Step 4: Create the wide format Dataframe for marker specific kinematics",
   "id": "8f627c7dcbf396fe"
  },
  {
   "metadata": {
    "ExecuteTime": {
     "end_time": "2025-06-16T14:45:52.684238Z",
     "start_time": "2025-06-16T14:45:52.654394Z"
    }
   },
   "cell_type": "code",
   "source": [
    "marker_specific_vars = [\n",
    "    'timeMAcc', 'timeMVel', 'timeMDec', 'timeMDecToOffset',\n",
    "    'timeMVelToMDec', 'timeMAccToMVel',\n",
    "    'timeToXmax', 'timeToYmax', 'timeToZmax',\n",
    "    'XlocMinN', 'YlocMinN', 'ZlocMinN', 'XlocMaxN', 'YlocMaxN', 'ZlocMaxN',\n",
    "    'Xmax_index', 'Xmax_knuck', 'Xmax_thumb', 'Xmax_wrist',\n",
    "]\n",
    "\n",
    "# A better, more robust approach is to identify all columns that are NOT trial-level info.\n",
    "trial_level_info = ['subjName', 'trialN', 'visCond', 'surface', 'distance', 'onset', 'offset', 'movTime']\n",
    "all_kinematic_vars = [col for col in reach_params_long.columns if col not in trial_level_info and col != 'signal']\n",
    "\n",
    "reach_params_wide = reach_params_long.pivot_table(\n",
    "    index=['subjName', 'trialN'],\n",
    "    columns='signal',\n",
    "    values=all_kinematic_vars\n",
    ")\n",
    "\n",
    "# Create clearer column names\n",
    "reach_params_wide.columns = [f\"{val}_{sig}\" for val, sig in reach_params_wide.columns]\n",
    "reach_params_wide.reset_index(inplace=True)\n",
    "print(f\"Pivoted marker-specific data. Shape: {reach_params_wide.shape}\")"
   ],
   "id": "c7d6270086ca21d0",
   "outputs": [
    {
     "name": "stdout",
     "output_type": "stream",
     "text": [
      "Pivoted marker-specific data. Shape: (2826, 122)\n"
     ]
    }
   ],
   "execution_count": 29
  },
  {
   "metadata": {},
   "cell_type": "markdown",
   "source": "# Merge Everything into a final master dataframe",
   "id": "8bd430f72f5d8234"
  },
  {
   "metadata": {
    "ExecuteTime": {
     "end_time": "2025-06-16T14:48:38.875838Z",
     "start_time": "2025-06-16T14:48:38.818658Z"
    }
   },
   "cell_type": "code",
   "source": [
    "# Define merge keys\n",
    "merge_keys = [\"subjName\", \"trialN\"]\n",
    "\n",
    "# 5a. Merge the clean base with the CORRECT summary kinematics\n",
    "master_df = pd.merge(base_df, reach_summary, on=merge_keys, how='inner')\n",
    "\n",
    "# 5b. Merge with the detailed grasp parameters (dropping redundant columns)\n",
    "master_df = pd.merge(\n",
    "    master_df,\n",
    "    grasp_params_full.drop(columns=['visCond', 'surface', 'distance']), on=merge_keys, how=\"inner\"\n",
    ")\n",
    "\n",
    "# 5c. Merge with the wide format marker specific data\n",
    "master_df = pd.merge(master_df, reach_params_wide, on=merge_keys, how=\"inner\")"
   ],
   "id": "eced6027c709f959",
   "outputs": [],
   "execution_count": 31
  },
  {
   "metadata": {
    "ExecuteTime": {
     "end_time": "2025-06-16T14:50:49.919717Z",
     "start_time": "2025-06-16T14:50:49.877472Z"
    }
   },
   "cell_type": "code",
   "source": [
    "# FINAL CLEANUP\n",
    "if \"distance\" in master_df.columns:\n",
    "    master_df[\"distance\"] = master_df[\"distance\"].str.replace(\".csv\", \"\", regex=False)\n",
    "print(\"\\n--- New Corrected Master DataFrame\")\n",
    "print(f\"Final combined dataframe has {master_df.shape[0]} rows and {master_df.shape[1]} columns\")\n",
    "print(\"\\nFirst 5 rows of the new Prehension DataFrame:\")\n",
    "print(master_df.head())"
   ],
   "id": "6e13e9c37d50fba5",
   "outputs": [
    {
     "name": "stdout",
     "output_type": "stream",
     "text": [
      "\n",
      "--- New Corrected Master DataFrame\n",
      "Final combined dataframe has 2826 rows and 184 columns\n",
      "\n",
      "First 5 rows of the new Prehension DataFrame:\n",
      "   subjName  trialN visCond surface distance      FX_x      FY_x      FZ_x  \\\n",
      "0         1       1   clear   black     near  0.066117  0.109976  0.153287   \n",
      "1         1       2   clear   black      far  0.080668  0.115076  0.359722   \n",
      "2         1       3   clear    wood   middle  0.071642  0.117912  0.249301   \n",
      "3         1       4   clear   black   middle  0.072217  0.115635  0.250760   \n",
      "4         1       5   clear    wood     near  0.070657  0.111656  0.146179   \n",
      "\n",
      "    FXVel_x   FYVel_x  ...  timeToXmax_thumb  timeToXmax_wrist  \\\n",
      "0  0.007951  0.013748  ...          3.308333          3.316667   \n",
      "1  0.010462  0.015378  ...          3.775000          4.050000   \n",
      "2  0.008205  0.016199  ...          3.666667          3.691667   \n",
      "3  0.012554  0.011980  ...          3.791667          3.958333   \n",
      "4  0.008591  0.014774  ...          3.875000          3.891667   \n",
      "\n",
      "   timeToYmax_index  timeToYmax_knuck  timeToYmax_thumb  timeToYmax_wrist  \\\n",
      "0          2.691667          3.125000          2.675000          2.758333   \n",
      "1          2.991667          3.500000          2.941667          3.500000   \n",
      "2          2.908333          3.475000          2.891667          3.483333   \n",
      "3          2.983333          3.516667          2.966667          3.525000   \n",
      "4          3.225000          3.700000          3.225000          3.708333   \n",
      "\n",
      "   timeToZmax_index  timeToZmax_knuck  timeToZmax_thumb  timeToZmax_wrist  \n",
      "0          2.950000          2.966667          3.241667          2.983333  \n",
      "1          3.608333          3.675000          3.625000          3.666667  \n",
      "2          3.300000          3.325000          3.291667          3.325000  \n",
      "3          3.408333          3.391667          3.491667          3.416667  \n",
      "4          3.550000          3.566667          3.575000          3.575000  \n",
      "\n",
      "[5 rows x 184 columns]\n"
     ]
    }
   ],
   "execution_count": 32
  },
  {
   "metadata": {
    "ExecuteTime": {
     "end_time": "2025-06-16T14:51:13.195884Z",
     "start_time": "2025-06-16T14:51:12.606972Z"
    }
   },
   "cell_type": "code",
   "source": [
    "# --- Save the new, reliable master dataset ---\n",
    "master_df.to_csv(\"prehension_master_dataset.csv\", index=False)\n",
    "print(\"\\nSuccessfully saved the new, corrected data to 'prehension_master_dataset.csv'\")"
   ],
   "id": "6e179c0c1db6db79",
   "outputs": [
    {
     "name": "stdout",
     "output_type": "stream",
     "text": [
      "\n",
      "Successfully saved the new, corrected data to 'prehension_master_dataset.csv'\n"
     ]
    }
   ],
   "execution_count": 33
  },
  {
   "metadata": {},
   "cell_type": "code",
   "outputs": [],
   "execution_count": null,
   "source": "",
   "id": "5b9b4f37c4142368"
  }
 ],
 "metadata": {
  "kernelspec": {
   "display_name": "base",
   "language": "python",
   "name": "python3"
  },
  "language_info": {
   "codemirror_mode": {
    "name": "ipython",
    "version": 3
   },
   "file_extension": ".py",
   "mimetype": "text/x-python",
   "name": "python",
   "nbconvert_exporter": "python",
   "pygments_lexer": "ipython3",
   "version": "3.12.3"
  }
 },
 "nbformat": 4,
 "nbformat_minor": 5
}
